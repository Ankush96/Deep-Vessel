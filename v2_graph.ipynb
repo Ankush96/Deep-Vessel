{
 "cells": [
  {
   "cell_type": "code",
   "execution_count": 118,
   "metadata": {
    "collapsed": true
   },
   "outputs": [],
   "source": [
    "import numpy as np\n",
    "import pandas as pd\n",
    "import os\n",
    "import glob\n",
    "import tensorflow as tf\n",
    "from skimage import io\n",
    "from skimage.util import img_as_float, img_as_ubyte\n",
    "import matplotlib.cm as cm\n",
    "from matplotlib import pyplot as plt\n",
    "%matplotlib inline\n",
    "\n",
    "from __future__ import division\n",
    "import time\n",
    "from six.moves import xrange "
   ]
  },
  {
   "cell_type": "code",
   "execution_count": 119,
   "metadata": {
    "collapsed": false
   },
   "outputs": [],
   "source": [
    "def get_path(directory):\n",
    "    imgs = glob.glob(directory + '/images/*.tif')\n",
    "    #a = [x.split('/')[-1].split('.')[0] for x in train]\n",
    "    \n",
    "    mask = glob.glob(directory + '/mask/*.gif')\n",
    "    #b = [x.split('/')[-1].split('.')[0] for x in mask]\n",
    "    \n",
    "    gt = glob.glob(directory + '/1st_manual/*.gif')\n",
    "    #c = [x.split('/')[-1].split('.')[0] for x in gt]\n",
    "    \n",
    "    return map(os.path.abspath, imgs), map(os.path.abspath, mask), map(os.path.abspath, gt)\n",
    "\n",
    "train, mask_train, gt_train =  get_path('../Data/DRIVE/training')\n",
    "test, mask_test, mask_gt = get_path('../Data/DRIVE/test')"
   ]
  },
  {
   "cell_type": "code",
   "execution_count": 120,
   "metadata": {
    "collapsed": true
   },
   "outputs": [],
   "source": [
    "data = pd.read_pickle('../Data/mean_normalised_df.pkl') \n",
    "mean_img = pd.read_pickle('../Data/mean_img.pkl')"
   ]
  },
  {
   "cell_type": "code",
   "execution_count": 121,
   "metadata": {
    "collapsed": false
   },
   "outputs": [
    {
     "name": "stdout",
     "output_type": "stream",
     "text": [
      "30.0\n",
      "8\n"
     ]
    }
   ],
   "source": [
    "# Hyper Params\n",
    "TOTAL_PATCHES = len(data)\n",
    "NUM_IMAGES = len(train)\n",
    "PATCHES_PER_IMAGE = TOTAL_PATCHES/NUM_IMAGES\n",
    "PATCH_DIM = 31\n",
    "BATCH_SIZE = 60\n",
    "LEARNING_RATE = 5e-4\n",
    "TRAINING_PROP = 0.8\n",
    "MAX_STEPS = int((TOTAL_PATCHES*TRAINING_PROP)/BATCH_SIZE)\n",
    "print PATCHES_PER_IMAGE\n",
    "print MAX_STEPS\n",
    "\n",
    "NUM_CLASSES = 2"
   ]
  },
  {
   "cell_type": "code",
   "execution_count": 122,
   "metadata": {
    "collapsed": true
   },
   "outputs": [],
   "source": [
    "def next_batch(size, df, current_batch_ind):\n",
    "    \"\"\"Returns the next mini batch of data from the dtaset passed\n",
    "    \n",
    "    Args:\n",
    "        size: length of the current requested mini batch\n",
    "        df: the data set consisting of the images and the labels\n",
    "        current_batch_ind: the current position of the index in the dataset\n",
    "    \n",
    "    Returns:\n",
    "        (batch_x, batch_y): A tuple of np arrays of dimensions \n",
    "                        [size, patch_dim**2*3] and [size, 1] respectively\n",
    "        flag: True if no more data left in the data set, else False        \n",
    "    \n",
    "    \"\"\"\n",
    "    flag = False\n",
    "    if current_batch_ind + size> len(df):\n",
    "        print 'Next batch cannot be called because of insufficient remaining data'\n",
    "        flag = True\n",
    "    else:\n",
    "        batch_x = np.zeros((size, PATCH_DIM**2*3))\n",
    "        batch_y = np.zeros((size,2), dtype = 'uint8')\n",
    "        for i in range(current_batch_ind, current_batch_ind+size):\n",
    "            batch_x[i - current_batch_ind] = df.loc[i][:-1]\n",
    "            batch_y[i - current_batch_ind][int(df.loc[i][PATCH_DIM**2*3])]=1\n",
    "        #current_batch_ind += size  # Should be done immediately after the function \n",
    "    return (batch_x, batch_y), flag"
   ]
  },
  {
   "cell_type": "code",
   "execution_count": 123,
   "metadata": {
    "collapsed": false
   },
   "outputs": [],
   "source": [
    "def inference(images, keep_prob, fc_hidden_units1=512):\n",
    "    \"\"\" Builds the model as far as is required for running the network\n",
    "    forward to make predictions.\n",
    "\n",
    "    Args:\n",
    "        images: Images placeholder, from inputs().\n",
    "        keep_prob: Probability used for Droupout in the final Affine Layer\n",
    "        fc_hidden_units1: Number of hidden neurons in final Affine layer\n",
    "    Returns:\n",
    "        softmax_linear: Output tensor with the computed logits.\n",
    "    \"\"\"\n",
    "    with tf.variable_scope('h_conv1') as scope:\n",
    "        weights = tf.get_variable('weights', shape=[4, 4, 3, 64], \n",
    "                                  initializer=tf.contrib.layers.xavier_initializer())\n",
    "        biases = tf.get_variable('biases', shape=[64])\n",
    "        \n",
    "        # Flattening the 3D image into a 1D array\n",
    "        x_image = tf.reshape(images, [-1,PATCH_DIM,PATCH_DIM,3])\n",
    "        z = tf.nn.conv2d(x_image, weights, strides=[1, 1, 1, 1], padding='VALID')\n",
    "        h_conv1 = tf.nn.relu(z+biases, name=scope.name)\n",
    "    with tf.variable_scope('h_conv2') as scope:\n",
    "        weights = tf.get_variable('weights', shape=[4, 4, 64, 64], \n",
    "                                  initializer=tf.contrib.layers.xavier_initializer())\n",
    "        biases = tf.get_variable('biases', shape=[64])\n",
    "        z = tf.nn.conv2d(h_conv1, weights, strides=[1, 1, 1, 1], padding='SAME')\n",
    "        h_conv2 = tf.nn.relu(z+biases, name=scope.name)\n",
    "    \n",
    "    h_pool1 = tf.nn.max_pool(h_conv2, ksize=[1, 2, 2, 1],\n",
    "                        strides=[1, 2, 2, 1], padding='SAME', name='h_pool1')\n",
    "    \n",
    "    with tf.variable_scope('h_conv3') as scope:\n",
    "        weights = tf.get_variable('weights', shape=[4, 4, 64, 64], \n",
    "                                  initializer=tf.contrib.layers.xavier_initializer())\n",
    "        biases = tf.get_variable('biases', shape=[64])\n",
    "        z = tf.nn.conv2d(h_pool1, weights, strides=[1, 1, 1, 1], padding='SAME')\n",
    "        h_conv3 = tf.nn.relu(z+biases, name=scope.name)\n",
    "        \n",
    "    h_pool2 = tf.nn.max_pool(h_conv3, ksize=[1, 2, 2, 1],\n",
    "                        strides=[1, 2, 2, 1], padding='SAME', name='h_pool2')\n",
    "    \n",
    "    with tf.variable_scope('h_fc1') as scope:\n",
    "        weights = tf.get_variable('weights', shape=[7**2*64, fc_hidden_units1], \n",
    "                                  initializer=tf.contrib.layers.xavier_initializer())\n",
    "        biases = tf.get_variable('biases', shape=[fc_hidden_units1])\n",
    "        h_pool2_flat = tf.reshape(h_pool2, [-1, 7*7*64])\n",
    "        \n",
    "        h_fc1 = tf.nn.relu(tf.matmul(h_pool2_flat, weights) + biases, name = 'h_fc1')\n",
    "        h_fc1_drop = tf.nn.dropout(h_fc1, keep_prob)\n",
    "        \n",
    "        \n",
    "    with tf.variable_scope('h_fc2') as scope:\n",
    "        weights = tf.get_variable('weights', shape=[fc_hidden_units1, NUM_CLASSES], \n",
    "                                  initializer=tf.contrib.layers.xavier_initializer())\n",
    "        biases = tf.get_variable('biases', shape=[NUM_CLASSES])\n",
    "        \n",
    "        logits = (tf.matmul(h_fc1_drop, weights) + biases)\n",
    "    return logits"
   ]
  },
  {
   "cell_type": "code",
   "execution_count": 124,
   "metadata": {
    "collapsed": true
   },
   "outputs": [],
   "source": [
    "def calc_loss(logits, labels):\n",
    "    \"\"\"Calculates the loss from the logits and the labels.\n",
    "    Args:\n",
    "        logits: Logits tensor, float - [batch_size, NUM_CLASSES].\n",
    "        labels: Labels tensor, int32 - [batch_size].\n",
    "    Returns:\n",
    "        loss: Loss tensor of type float.\n",
    "    \"\"\"\n",
    "    labels = tf.to_float(labels)\n",
    "    cross_entropy = tf.nn.softmax_cross_entropy_with_logits(logits, labels, name='xentropy')\n",
    "    loss = tf.reduce_mean(cross_entropy, name='xentropy_mean')\n",
    "    return loss"
   ]
  },
  {
   "cell_type": "code",
   "execution_count": 125,
   "metadata": {
    "collapsed": true
   },
   "outputs": [],
   "source": [
    "def training(loss, learning_rate=5e-4):\n",
    "    \"\"\"Sets up the training Ops.\n",
    "    Creates a summarizer to track the loss over time in TensorBoard.\n",
    "    Creates an optimizer and applies the gradients to all trainable variables.\n",
    "    The Op returned by this function is what must be passed to the\n",
    "    `sess.run()` call to cause the model to train.\n",
    "    Args:\n",
    "        loss: Loss tensor, from loss().\n",
    "        learning_rate: The learning rate to use for gradient descent.\n",
    "    Returns:\n",
    "        train_op: The Op for training.\n",
    "    \"\"\"\n",
    "    # Add a scalar summary for the snapshot loss.\n",
    "    tf.scalar_summary(loss.op.name, loss)\n",
    "    # Create the Adam optimizer with the given learning rate.\n",
    "    optimizer = tf.train.AdamOptimizer(learning_rate)\n",
    "    # Create a variable to track the global step.\n",
    "    global_step = tf.Variable(0, name='global_step', trainable=False)\n",
    "    # Use the optimizer to apply the gradients that minimize the loss\n",
    "    # (and also increment the global step counter) as a single training step.\n",
    "    train_op = optimizer.minimize(loss, global_step=global_step)\n",
    "    return train_op"
   ]
  },
  {
   "cell_type": "code",
   "execution_count": 126,
   "metadata": {
    "collapsed": false
   },
   "outputs": [],
   "source": [
    "def evaluation(logits, labels, topk=1):\n",
    "    \"\"\"Evaluate the quality of the logits at predicting the label.\n",
    "    Args:\n",
    "        logits: Logits tensor, float - [batch_size, NUM_CLASSES].\n",
    "        labels: Labels tensor, int32 - [batch_size], with values in the\n",
    "                  range [0, NUM_CLASSES).\n",
    "        topk: the number k for 'top-k accuracy'\n",
    "    Returns:\n",
    "        A scalar int32 tensor with the number of examples (out of batch_size)\n",
    "        that were predicted correctly.\n",
    "    \"\"\"\n",
    "    # For a classifier model, we can use the in_top_k Op.\n",
    "    # It returns a bool tensor with shape [batch_size] that is true for\n",
    "    # the examples where the label is in the top k (here k=1)\n",
    "    # of all logits for that example.\n",
    "    \n",
    "    correct = tf.nn.in_top_k(logits, tf.reshape(tf.slice(labels, [0,1], [int(labels.get_shape()[0]), 1]),[-1]), topk)\n",
    "    # Return the number of true entries.\n",
    "    return tf.reduce_sum(tf.cast(correct, tf.int32))"
   ]
  },
  {
   "cell_type": "code",
   "execution_count": 127,
   "metadata": {
    "collapsed": true
   },
   "outputs": [],
   "source": [
    "def placeholder_inputs(batch_size):\n",
    "    \"\"\"Generate placeholder variables to represent the input tensors.\n",
    "    \n",
    "    These placeholders are used as inputs by the rest of the model building\n",
    "    code and will be fed from the downloaded data in the .run() loop, below.\n",
    "    Args:\n",
    "        batch_size: The batch size will be baked into both placeholders.\n",
    "    Returns:\n",
    "        images_placeholder: Images placeholder.\n",
    "        labels_placeholder: Labels placeholder.\n",
    "    \"\"\"\n",
    "    # Note that the shapes of the placeholders match the shapes of the full\n",
    "    # image and label tensors, except the first dimension is now batch_size\n",
    "    # rather than the full size of the train or test data sets.\n",
    "    images_placeholder = tf.placeholder(tf.float32, shape=(batch_size, PATCH_DIM**2*3))\n",
    "    labels_placeholder = tf.placeholder(tf.int32, shape=(batch_size, NUM_CLASSES))\n",
    "    return images_placeholder, labels_placeholder"
   ]
  },
  {
   "cell_type": "code",
   "execution_count": 128,
   "metadata": {
    "collapsed": true
   },
   "outputs": [],
   "source": [
    "#UPDATE current_img_ind\n",
    "def fill_feed_dict(data_set, images_pl, labels_pl, current_img_ind, batch_size=60):\n",
    "    \"\"\"Fills the feed_dict for training the given step.\n",
    "    A feed_dict takes the form of:\n",
    "    feed_dict = {\n",
    "                  <placeholder>: <tensor of values to be passed for placeholder>,\n",
    "                  ....\n",
    "                }\n",
    "    Args:\n",
    "        data_set: The set of images and labels, from input_data.read_data_sets()\n",
    "        images_pl: The images placeholder, from placeholder_inputs().\n",
    "        labels_pl: The labels placeholder, from placeholder_inputs().\n",
    "    Returns:\n",
    "        feed_dict: The feed dictionary mapping from placeholders to values.\n",
    "    \"\"\"\n",
    "    # Create the feed_dict for the placeholders filled with the next\n",
    "    # `batch size ` examples.\n",
    "    batch, flag = next_batch(batch_size, data_set, current_img_ind)\n",
    "    if flag:\n",
    "        return None, current_img_ind+batch_size\n",
    "    feed_dict = {\n",
    "      images_pl: batch[0],\n",
    "      labels_pl: batch[1],\n",
    "    }\n",
    "    return feed_dict, current_img_ind+batch_size\n"
   ]
  },
  {
   "cell_type": "code",
   "execution_count": 129,
   "metadata": {
    "collapsed": true
   },
   "outputs": [],
   "source": [
    "def do_eval(sess, eval_correct, images_placeholder, labels_placeholder, data_set, batch_size=60):\n",
    "    \"\"\"Runs one evaluation against the full epoch of data.\n",
    "    Args:\n",
    "        sess: The session in which the model has been trained.\n",
    "        eval_correct: The Tensor that returns the number of correct predictions.\n",
    "        images_placeholder: The images placeholder.\n",
    "        labels_placeholder: The labels placeholder.\n",
    "        data_set: The set of images and labels to evaluate, from\n",
    "                input_data.read_data_sets().\n",
    "    \"\"\"\n",
    "    # And run one epoch of eval.\n",
    "    true_count = 0  # Counts the number of correct predictions.\n",
    "    steps_per_epoch = len(data_set) // batch_size\n",
    "    num_examples = steps_per_epoch * batch_size\n",
    "    current_img_ind =0\n",
    "    for step in xrange(steps_per_epoch):\n",
    "        feed_dict, current_img_ind = fill_feed_dict(data_set, images_placeholder,\n",
    "                               labels_placeholder, current_img_ind, batch_size)\n",
    "        true_count += sess.run(eval_correct, feed_dict=feed_dict)\n",
    "    precision = true_count / num_examples\n",
    "    print('  Num examples: %d  Num correct: %d  Precision @ 1: %0.04f' %\n",
    "            (num_examples, true_count, precision))"
   ]
  },
  {
   "cell_type": "code",
   "execution_count": 130,
   "metadata": {
    "collapsed": false
   },
   "outputs": [],
   "source": [
    "def run_training():\n",
    "    \"\"\"Train for a number of steps.\"\"\"\n",
    "    # Tell TensorFlow that the model will be built into the default Graph.\n",
    "    train_data = data[:int(TRAINING_PROP*len(data))]\n",
    "    test_data = data[int(TRAINING_PROP*len(data)):]\n",
    "    train_data = train_data.reset_index(drop = True)\n",
    "    test_data = test_data.reset_index(drop = True)\n",
    "    \n",
    "    with tf.Graph().as_default():\n",
    "        # Generate placeholders for the images and labels.\n",
    "        images_placeholder, labels_placeholder = placeholder_inputs(BATCH_SIZE)\n",
    "\n",
    "        # Build a Graph that computes predictions from the inference model.\n",
    "        logits = inference(images_placeholder, 0.5, 512)\n",
    "\n",
    "        # Add to the Graph the Ops for loss calculation.\n",
    "        loss = calc_loss(logits, labels_placeholder)\n",
    "\n",
    "        # Add to the Graph the Ops that calculate and apply gradients.\n",
    "        train_op = training(loss, LEARNING_RATE)\n",
    "\n",
    "        # Add the Op to compare the logits to the labels during evaluation.\n",
    "        eval_correct = evaluation(logits, labels_placeholder)\n",
    "\n",
    "        # Build the summary operation based on the TF collection of Summaries.\n",
    "        #summary_op = tf.merge_all_summaries()\n",
    "\n",
    "        # Create a saver for writing training checkpoints.\n",
    "        #saver = tf.train.Saver()\n",
    "\n",
    "        # Create a session for running Ops on the Graph.\n",
    "        sess = tf.Session()\n",
    "\n",
    "        # Run the Op to initialize the variables.\n",
    "        init = tf.initialize_all_variables()\n",
    "        sess.run(init)\n",
    "\n",
    "        # Instantiate a SummaryWriter to output summaries and the Graph.\n",
    "        #summary_writer = tf.train.SummaryWriter('../Data/', sess.graph)\n",
    "        current_img_ind = 0\n",
    "        # And then after everything is built, start the training loop.\n",
    "        for step in xrange(MAX_STEPS):\n",
    "            start_time = time.time()\n",
    "\n",
    "            # Fill a feed dictionary with the actual set of images and labels\n",
    "            # for this particular training step.\n",
    "            feed_dict, current_img_ind = fill_feed_dict(train_data,\n",
    "                                 images_placeholder,\n",
    "                                 labels_placeholder, current_img_ind=current_img_ind, \n",
    "                                                        batch_size=BATCH_SIZE)\n",
    "            \n",
    "\n",
    "            # Run one step of the model.  The return values are the activations\n",
    "            # from the `train_op` (which is discarded) and the `loss` Op.  To\n",
    "            # inspect the values of your Ops or variables, you may include them\n",
    "            # in the list passed to sess.run() and the value tensors will be\n",
    "            # returned in the tuple from the call.\n",
    "            _, loss_value = sess.run([train_op, loss],\n",
    "                               feed_dict=feed_dict)\n",
    "\n",
    "            duration = time.time() - start_time\n",
    "\n",
    "            # Write the summaries and print an overview fairly often.\n",
    "            if step % 1 == 0:\n",
    "                # Print status to stdout.\n",
    "                print('Step %d: loss = %.2f (%.3f sec)' % (step, loss_value, duration))\n",
    "                # Update the events file.\n",
    "                #summary_str = sess.run(summary_op, feed_dict=feed_dict)\n",
    "                #summary_writer.add_summary(summary_str, step)\n",
    "                #summary_writer.flush()\n",
    "\n",
    "            # Save a checkpoint and evaluate the model periodically.\n",
    "            if (step + 1) % 3 == 0 or (step + 1) == MAX_STEPS:\n",
    "                #saver.save(sess, '../Data/', global_step=step)\n",
    "                # Evaluate against the training set.\n",
    "                print('Training Data Eval:')\n",
    "                do_eval(sess, eval_correct, images_placeholder, labels_placeholder, train_data)\n",
    "                # Evaluate against the validation set.\n",
    "                print('Validation Data Eval:')\n",
    "                do_eval(sess, eval_correct, images_placeholder, labels_placeholder, test_data)"
   ]
  },
  {
   "cell_type": "code",
   "execution_count": 131,
   "metadata": {
    "collapsed": false
   },
   "outputs": [
    {
     "name": "stdout",
     "output_type": "stream",
     "text": [
      "Step 0: loss = 11865.63 (1.454 sec)\n",
      "Step 1: loss = 16149.88 (1.222 sec)\n",
      "Step 2: loss = 29968.87 (1.174 sec)\n",
      "Training Data Eval:\n",
      "  Num examples: 480  Num correct: 422  Precision @ 1: 0.8792\n",
      "Validation Data Eval:\n",
      "  Num examples: 120  Num correct: 107  Precision @ 1: 0.8917\n",
      "Step 3: loss = 16817.34 (1.172 sec)\n",
      "Step 4: loss = 14281.11 (1.172 sec)\n",
      "Step 5: loss = 28806.37 (1.190 sec)\n",
      "Training Data Eval:\n",
      "  Num examples: 480  Num correct: 422  Precision @ 1: 0.8792\n",
      "Validation Data Eval:\n",
      "  Num examples: 120  Num correct: 107  Precision @ 1: 0.8917\n",
      "Step 6: loss = 2178.72 (1.438 sec)\n",
      "Step 7: loss = 14221.17 (1.303 sec)\n",
      "Training Data Eval:\n",
      "  Num examples: 480  Num correct: 422  Precision @ 1: 0.8792\n",
      "Validation Data Eval:\n",
      "  Num examples: 120  Num correct: 107  Precision @ 1: 0.8917\n"
     ]
    }
   ],
   "source": [
    "run_training()"
   ]
  }
 ],
 "metadata": {
  "kernelspec": {
   "display_name": "Python 2",
   "language": "python",
   "name": "python2"
  },
  "language_info": {
   "codemirror_mode": {
    "name": "ipython",
    "version": 2
   },
   "file_extension": ".py",
   "mimetype": "text/x-python",
   "name": "python",
   "nbconvert_exporter": "python",
   "pygments_lexer": "ipython2",
   "version": "2.7.11"
  }
 },
 "nbformat": 4,
 "nbformat_minor": 0
}
