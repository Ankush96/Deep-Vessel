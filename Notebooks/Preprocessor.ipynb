{
 "cells": [
  {
   "cell_type": "code",
   "execution_count": 1,
   "metadata": {
    "collapsed": true
   },
   "outputs": [],
   "source": [
    "import numpy as np\n",
    "import pandas as pd\n",
    "from skimage import io, draw\n",
    "from skimage.util import img_as_float, img_as_ubyte\n",
    "#%matplotlib inline\n",
    "import os\n",
    "import glob\n",
    "import time"
   ]
  },
  {
   "cell_type": "code",
   "execution_count": 2,
   "metadata": {
    "collapsed": true
   },
   "outputs": [],
   "source": [
    "def get_path(directory):\n",
    "    \"\"\" Gets the filenames of all training, mask and ground truth images in the given \n",
    "        directory \n",
    "        Args:\n",
    "            directory: The path to the root folder\n",
    "        Output:\n",
    "            imgs: List of paths to files containing images\n",
    "            mask: List of paths to files containing masks of the images\n",
    "            gt:   List of paths to files containing corresponding ground truth images\n",
    "    \"\"\"\n",
    "    imgs = glob.glob(directory + '/images/*.tif')\n",
    "    imgs.sort()\n",
    "    #a = [x.split('/')[-1].split('.')[0] for x in train]\n",
    "    \n",
    "    mask = glob.glob(directory + '/mask/*.gif')\n",
    "    mask.sort()\n",
    "    #b = [x.split('/')[-1].split('.')[0] for x in mask]\n",
    "    \n",
    "    gt = glob.glob(directory + '/1st_manual/*.gif')\n",
    "    gt.sort()\n",
    "    #c = [x.split('/')[-1].split('.')[0] for x in gt]\n",
    "    \n",
    "    return map(os.path.abspath, imgs), map(os.path.abspath, mask), map(os.path.abspath, gt)\n",
    "\n",
    "train, mask_train, gt_train =  get_path('../Data/DRIVE/training')\n",
    "test, mask_test, mask_gt = get_path('../Data/DRIVE/test')"
   ]
  },
  {
   "cell_type": "code",
   "execution_count": 3,
   "metadata": {
    "collapsed": true
   },
   "outputs": [],
   "source": [
    "# Hyper Params\n",
    "total_patches = 600\n",
    "num_training_images = len(train)\n",
    "patches_per_image = total_patches/num_training_images\n",
    "patch_dim = 31                          # Dimension of window used for training\n",
    "num_patches = 0                         # Patches used for training from the current image\n",
    "current_img_index = -1                   # Index of the current image in 'train'\n",
    "current_img = io.imread(train[0])    \n",
    "current_mask = img_as_float(io.imread(mask_train[0]))\n",
    "current_gt = img_as_float(io.imread(gt_train[0]))\n",
    "positive_proprtion = 0.5"
   ]
  },
  {
   "cell_type": "code",
   "execution_count": 4,
   "metadata": {
    "collapsed": true
   },
   "outputs": [],
   "source": [
    "def load_next_img(data,mask_data,gt_data):\n",
    "    \"\"\"When we have extracted 'PATCHES_PER_IMAGE' number of patches from our \n",
    "       current image we call this function to change the current image\n",
    "       Args:\n",
    "           data: The list of paths to the images\n",
    "           mask_data: List of paths to the corresponding masks of images\n",
    "           gt_data: List of paths to the corresponding ground truth images\n",
    "       \n",
    "    \"\"\"\n",
    "    global num_patches, current_img_index, current_img, current_mask, current_gt\n",
    "    num_patches = 0\n",
    "    if current_img_index < len(data)-1:\n",
    "        current_img_index +=1\n",
    "        print \"Working on image %d\"%(current_img_index + 1)\n",
    "        current_img = io.imread(data[current_img_index])                     \n",
    "        current_mask = img_as_float(io.imread(mask_data[current_img_index])) \n",
    "        current_gt = img_as_float(io.imread(gt_data[current_img_index])) \n",
    "        return True\n",
    "    else:\n",
    "        print 'No more images left in set'\n",
    "        return False"
   ]
  },
  {
   "cell_type": "code",
   "execution_count": 7,
   "metadata": {
    "collapsed": false
   },
   "outputs": [
    {
     "name": "stdout",
     "output_type": "stream",
     "text": [
      "Creating DataFrame\n",
      "Dataframe ready\n"
     ]
    }
   ],
   "source": [
    "begin = time.time()\n",
    "print \"Creating DataFrame\"\n",
    "df = pd.DataFrame(index=np.arange(total_patches), columns = np.arange(patch_dim**2*3+1))\n",
    "print \"Dataframe ready\""
   ]
  },
  {
   "cell_type": "code",
   "execution_count": 8,
   "metadata": {
    "collapsed": false
   },
   "outputs": [],
   "source": [
    "def save_img_data(data, mask_data, gt_data):\n",
    "    \"\"\"Extracts PATCHES_PER_IMAGE number of patches from each image\n",
    "        \n",
    "       It maintains a count of positive and negative patches and maintains\n",
    "       the ratio POSITIVE_PROPORTION = pos/(pos+neg)\n",
    "       Args:\n",
    "           data: The list of paths to the images\n",
    "           mask_data: List of paths to the corresponding masks of images\n",
    "           gt_data: List of paths to the corresponding ground truth images\n",
    "       \n",
    "    \"\"\"\n",
    "    pos_count = 0\n",
    "    neg_count = 0\n",
    "    global df\n",
    "    while pos_count +neg_count < patches_per_image: \n",
    "        # Choose a random point\n",
    "        i = np.random.randint(patch_dim/2,current_img.shape[0]-patch_dim/2)\n",
    "        j = np.random.randint(patch_dim/2,current_img.shape[1]-patch_dim/2)\n",
    "        h = (patch_dim - 1)/2\n",
    "        if int(np.sum(current_mask[i-h:i+h+1,j-h:j+h+1])/patch_dim**2) == 1:\n",
    "            ind = current_img_index*patches_per_image+pos_count+neg_count\n",
    "            \n",
    "            # If a positive sample is found and positive count hasn't reached its limit\n",
    "            if int(current_gt[i,j])==1 and pos_count < positive_proprtion*patches_per_image:\n",
    "                df.loc[ind][0:-1] = np.reshape(current_img[i-h:i+h+1,j-h:j+h+1], -1)\n",
    "                df.loc[ind][patch_dim**2*3] = int(current_gt[i,j])\n",
    "                pos_count += 1\n",
    "            # If a negative sample is found and negative count hasn't reached its limit\n",
    "            elif int(current_gt[i,j])==0 and neg_count < (1-positive_proprtion)*patches_per_image:\n",
    "                df.loc[ind][0:-1] = np.reshape(current_img[i-h:i+h+1,j-h:j+h+1], -1)\n",
    "                df.loc[ind][patch_dim**2*3] = int(current_gt[i,j])\n",
    "                neg_count += 1"
   ]
  },
  {
   "cell_type": "code",
   "execution_count": 9,
   "metadata": {
    "collapsed": false,
    "scrolled": true
   },
   "outputs": [
    {
     "name": "stdout",
     "output_type": "stream",
     "text": [
      "Working on image 1\n",
      "Time taken for this image = 0.019078 secs\n",
      "Working on image 2\n",
      "Time taken for this image = 0.018617 secs\n",
      "Working on image 3\n",
      "Time taken for this image = 0.018912 secs\n",
      "Working on image 4\n",
      "Time taken for this image = 0.016734 secs\n",
      "Working on image 5\n",
      "Time taken for this image = 0.018524 secs\n",
      "Working on image 6\n",
      "Time taken for this image = 0.020247 secs\n",
      "Working on image 7\n",
      "Time taken for this image = 0.017601 secs\n",
      "Working on image 8\n",
      "Time taken for this image = 0.016932 secs\n",
      "Working on image 9\n",
      "Time taken for this image = 0.018339 secs\n",
      "Working on image 10\n",
      "Time taken for this image = 0.017808 secs\n",
      "Working on image 11\n",
      "Time taken for this image = 0.018537 secs\n",
      "Working on image 12\n",
      "Time taken for this image = 0.017846 secs\n",
      "Working on image 13\n",
      "Time taken for this image = 0.037881 secs\n",
      "Working on image 14\n",
      "Time taken for this image = 0.016539 secs\n",
      "Working on image 15\n",
      "Time taken for this image = 0.019657 secs\n",
      "Working on image 16\n",
      "Time taken for this image = 0.016651 secs\n",
      "Working on image 17\n",
      "Time taken for this image = 0.027598 secs\n",
      "Working on image 18\n",
      "Time taken for this image = 0.038660 secs\n",
      "Working on image 19\n",
      "Time taken for this image = 0.021185 secs\n",
      "Working on image 20\n",
      "Time taken for this image = 0.019382 secs\n",
      "No more images left in set\n"
     ]
    },
    {
     "name": "stderr",
     "output_type": "stream",
     "text": [
      "/home/ankush/anaconda2/lib/python2.7/site-packages/skimage/external/tifffile/tifffile_local.py:3246: UserWarning: unexpected end of lzw stream (code 0)\n",
      "  warnings.warn(\"unexpected end of lzw stream (code %i)\" % code)\n"
     ]
    }
   ],
   "source": [
    "while load_next_img(train, mask_train, gt_train):\n",
    "    start = time.time()\n",
    "    save_img_data(train,mask_train, gt_train)\n",
    "    print \"Time taken for this image = %f secs\" %( (time.time()-start))"
   ]
  },
  {
   "cell_type": "code",
   "execution_count": 10,
   "metadata": {
    "collapsed": false
   },
   "outputs": [
    {
     "name": "stdout",
     "output_type": "stream",
     "text": [
      "Mean Normalising\n"
     ]
    }
   ],
   "source": [
    "print \"Mean Normalising\"\n",
    "last = len(df.columns) -1\n",
    "mean_img = np.mean(df)[:-1]\n",
    "labels = df[last]\n",
    "mean_normalised_df = df - np.mean(df)\n",
    "mean_normalised_df[last] = labels"
   ]
  },
  {
   "cell_type": "code",
   "execution_count": 11,
   "metadata": {
    "collapsed": false
   },
   "outputs": [
    {
     "name": "stdout",
     "output_type": "stream",
     "text": [
      "Randomly shuffling the datasets\n"
     ]
    }
   ],
   "source": [
    "print \"Randomly shuffling the datasets\"\n",
    "mean_normalised_df = mean_normalised_df.iloc[np.random.permutation(len(df))]\n",
    "mean_normalised_df = mean_normalised_df.reset_index(drop=True)"
   ]
  },
  {
   "cell_type": "code",
   "execution_count": 12,
   "metadata": {
    "collapsed": false
   },
   "outputs": [
    {
     "name": "stdout",
     "output_type": "stream",
     "text": [
      "Writing to pickle\n"
     ]
    }
   ],
   "source": [
    "print \"Writing to pickle\"\n",
    "mean_normalised_df.to_pickle('../Data/mean_normalised_df_no_class_bias.pkl')\n",
    "mean_img.to_pickle('../Data/mean_img_no_class_bias.pkl')"
   ]
  },
  {
   "cell_type": "code",
   "execution_count": 13,
   "metadata": {
    "collapsed": false
   },
   "outputs": [
    {
     "name": "stdout",
     "output_type": "stream",
     "text": [
      "Total time taken = 0.286586 mins\n"
     ]
    }
   ],
   "source": [
    "print \"Total time taken = %f mins\" %( (time.time()-begin)/60.0)"
   ]
  }
 ],
 "metadata": {
  "kernelspec": {
   "display_name": "Python 2",
   "language": "python",
   "name": "python2"
  },
  "language_info": {
   "codemirror_mode": {
    "name": "ipython",
    "version": 2
   },
   "file_extension": ".py",
   "mimetype": "text/x-python",
   "name": "python",
   "nbconvert_exporter": "python",
   "pygments_lexer": "ipython2",
   "version": "2.7.11"
  }
 },
 "nbformat": 4,
 "nbformat_minor": 0
}
