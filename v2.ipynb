{
 "cells": [
  {
   "cell_type": "code",
   "execution_count": 36,
   "metadata": {
    "collapsed": true
   },
   "outputs": [],
   "source": [
    "import numpy as np\n",
    "import os\n",
    "import glob\n",
    "import tensorflow as tf\n",
    "from skimage import io\n",
    "from skimage.util import img_as_float, img_as_ubyte\n",
    "import matplotlib.cm as cm\n",
    "from matplotlib import pyplot as plt\n",
    "%matplotlib inline"
   ]
  },
  {
   "cell_type": "code",
   "execution_count": null,
   "metadata": {
    "collapsed": true
   },
   "outputs": [],
   "source": []
  },
  {
   "cell_type": "code",
   "execution_count": 37,
   "metadata": {
    "collapsed": true
   },
   "outputs": [],
   "source": [
    "def get_path(directory):\n",
    "    imgs = glob.glob(directory + '/images/*.tif')\n",
    "    \n",
    "    #a = [x.split('/')[-1].split('.')[0] for x in train]\n",
    "    \n",
    "    mask = glob.glob(directory + '/mask/*.gif')\n",
    "    #b = [x.split('/')[-1].split('.')[0] for x in mask]\n",
    "    \n",
    "    gt = glob.glob(directory + '/1st_manual/*.gif')\n",
    "    #c = [x.split('/')[-1].split('.')[0] for x in gt]\n",
    "    \n",
    "    return map(os.path.abspath, imgs), map(os.path.abspath, mask), map(os.path.abspath, gt)\n",
    "\n",
    "train, mask_train, gt_train =  get_path('../Data/DRIVE/training')\n",
    "test, mask_test, mask_gt = get_path('../Data/DRIVE/test')"
   ]
  },
  {
   "cell_type": "code",
   "execution_count": 38,
   "metadata": {
    "collapsed": false
   },
   "outputs": [
    {
     "name": "stdout",
     "output_type": "stream",
     "text": [
      "20\n"
     ]
    }
   ],
   "source": [
    "# Hyper Params\n",
    "total_patches = 400\n",
    "num_training_images = len(train)\n",
    "patches_per_image = total_patches/num_training_images\n",
    "patch_dim = 31\n",
    "num_patches = 0\n",
    "current_img_index = -1\n",
    "current_img = io.imread(train[0])\n",
    "current_mask = img_as_float(io.imread(mask_train[0]))\n",
    "current_gt = img_as_float(io.imread(gt_train[0]))\n",
    "print patches_per_image"
   ]
  },
  {
   "cell_type": "code",
   "execution_count": 39,
   "metadata": {
    "collapsed": false
   },
   "outputs": [],
   "source": [
    "def load_next_img():\n",
    "    global num_patches, current_img_index, current_img, current_mask, current_gt\n",
    "    num_patches = 0\n",
    "    current_img_index +=1\n",
    "    if current_img_index < len(train):\n",
    "        current_img = io.imread(train[current_img_index])\n",
    "        current_mask = img_as_float(io.imread(mask_train[current_img_index]))\n",
    "        current_gt = img_as_float(io.imread(gt_train[current_img_index]))\n",
    "    else:\n",
    "        print 'No more images left in set'\n",
    "\n",
    "# size should be a factor of patches_per_image    \n",
    "def next_batch(size):\n",
    "    global num_patches\n",
    "    count = 0\n",
    "    batch_x = np.zeros((size, patch_dim**2*3))\n",
    "    batch_y = np.zeros(size, dtype = 'uint8')\n",
    "    while count < size:\n",
    "        i = np.random.randint(0,current_img.shape[0])\n",
    "        j = np.random.randint(0,current_img.shape[1])\n",
    "        h = (patch_dim - 1)/2\n",
    "        if not np.sum(current_mask[i-h:i+h+1,j-h:j+h+1])/patch_dim**2 < 1:\n",
    "            batch_x[count] = np.reshape(current_img[i-h:i+h+1,j-h:j+h+1], -1)\n",
    "            batch_y[count] = int(current_gt[i,j])\n",
    "            count +=1\n",
    "    num_patches += size\n",
    "    if num_patches >= patches_per_image:\n",
    "        load_next_img()\n",
    "    return (batch_x, batch_y)"
   ]
  },
  {
   "cell_type": "code",
   "execution_count": 55,
   "metadata": {
    "collapsed": false
   },
   "outputs": [],
   "source": [
    "batch = next_batch(10)"
   ]
  },
  {
   "cell_type": "code",
   "execution_count": 56,
   "metadata": {
    "collapsed": false
   },
   "outputs": [],
   "source": [
    "x = batch[0]\n",
    "y = batch[1]"
   ]
  },
  {
   "cell_type": "code",
   "execution_count": 57,
   "metadata": {
    "collapsed": false
   },
   "outputs": [
    {
     "data": {
      "text/plain": [
       "<matplotlib.image.AxesImage at 0x7f33d16acad0>"
      ]
     },
     "execution_count": 57,
     "metadata": {},
     "output_type": "execute_result"
    },
    {
     "data": {
      "image/png": "[encoded data removed]",
      "text/plain": [
       "<matplotlib.figure.Figure at 0x7f33d2035310>"
      ]
     },
     "metadata": {},
     "output_type": "display_data"
    }
   ],
   "source": [
    "io.imshow(x[0].reshape([patch_dim,patch_dim,3]))"
   ]
  },
  {
   "cell_type": "code",
   "execution_count": 58,
   "metadata": {
    "collapsed": false
   },
   "outputs": [
    {
     "data": {
      "text/plain": [
       "(584, 565, 3)"
      ]
     },
     "execution_count": 58,
     "metadata": {},
     "output_type": "execute_result"
    }
   ],
   "source": [
    "current_img.shape"
   ]
  },
  {
   "cell_type": "code",
   "execution_count": 59,
   "metadata": {
    "collapsed": false
   },
   "outputs": [
    {
     "data": {
      "text/plain": [
       "1"
      ]
     },
     "execution_count": 59,
     "metadata": {},
     "output_type": "execute_result"
    }
   ],
   "source": [
    "current_img_index"
   ]
  },
  {
   "cell_type": "code",
   "execution_count": null,
   "metadata": {
    "collapsed": true
   },
   "outputs": [],
   "source": []
  }
 ],
 "metadata": {
  "kernelspec": {
   "display_name": "Python 2",
   "language": "python",
   "name": "python2"
  },
  "language_info": {
   "codemirror_mode": {
    "name": "ipython",
    "version": 2
   },
   "file_extension": ".py",
   "mimetype": "text/x-python",
   "name": "python",
   "nbconvert_exporter": "python",
   "pygments_lexer": "ipython2",
   "version": "2.7.11"
  }
 },
 "nbformat": 4,
 "nbformat_minor": 0
}
