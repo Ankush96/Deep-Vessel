{
 "cells": [
  {
   "cell_type": "code",
   "execution_count": 86,
   "metadata": {
    "collapsed": true
   },
   "outputs": [],
   "source": [
    "import numpy as np\n",
    "import pandas as pd\n",
    "from skimage import io\n",
    "from skimage.util import img_as_float, img_as_ubyte\n",
    "%matplotlib inline\n",
    "import os\n",
    "import glob"
   ]
  },
  {
   "cell_type": "code",
   "execution_count": 87,
   "metadata": {
    "collapsed": true
   },
   "outputs": [],
   "source": [
    "def get_path(directory):\n",
    "    imgs = glob.glob(directory + '/images/*.tif')\n",
    "    #a = [x.split('/')[-1].split('.')[0] for x in train]\n",
    "    \n",
    "    mask = glob.glob(directory + '/mask/*.gif')\n",
    "    #b = [x.split('/')[-1].split('.')[0] for x in mask]\n",
    "    \n",
    "    gt = glob.glob(directory + '/1st_manual/*.gif')\n",
    "    #c = [x.split('/')[-1].split('.')[0] for x in gt]\n",
    "    \n",
    "    return map(os.path.abspath, imgs), map(os.path.abspath, mask), map(os.path.abspath, gt)\n",
    "\n",
    "train, mask_train, gt_train =  get_path('../Data/DRIVE/training')\n",
    "test, mask_test, mask_gt = get_path('../Data/DRIVE/test')"
   ]
  },
  {
   "cell_type": "code",
   "execution_count": 88,
   "metadata": {
    "collapsed": true
   },
   "outputs": [],
   "source": [
    "# Hyper Params\n",
    "total_patches = 600\n",
    "num_training_images = len(train)\n",
    "patches_per_image = total_patches/num_training_images\n",
    "patch_dim = 31                          # Dimension of window used for training\n",
    "num_patches = 0                         # Patches used for training from the current image\n",
    "current_img_index = -1                   # Index of the current image in 'train'\n",
    "current_img = io.imread(train[0])    \n",
    "current_mask = img_as_float(io.imread(mask_train[0]))\n",
    "current_gt = img_as_float(io.imread(gt_train[0]))"
   ]
  },
  {
   "cell_type": "code",
   "execution_count": 89,
   "metadata": {
    "collapsed": false
   },
   "outputs": [],
   "source": [
    "# When we have extracted 'patches_per_image' number of patches from our current image\n",
    "# we call this function to change the current image\n",
    "def load_next_img(data,mask_data,gt_data):\n",
    "    global num_patches, current_img_index, current_img, current_mask, current_gt\n",
    "    num_patches = 0\n",
    "    if current_img_index < len(data)-1:\n",
    "        current_img_index +=1\n",
    "        print \"Working on image %d\"%(current_img_index + 1)\n",
    "        current_img = io.imread(data[current_img_index])                     \n",
    "        current_mask = img_as_float(io.imread(mask_data[current_img_index])) \n",
    "        current_gt = img_as_float(io.imread(gt_data[current_img_index])) \n",
    "        return True\n",
    "    else:\n",
    "        print 'No more images left in set'\n",
    "        return False\n",
    "df = pd.DataFrame(columns = np.arange(patch_dim**2*3+1))\n",
    "def save_img_data(data, mask_data, gt_data):\n",
    "    count = 0\n",
    "    global df\n",
    "    while count < patches_per_image:\n",
    "        i = np.random.randint(0,current_img.shape[0])\n",
    "        j = np.random.randint(0,current_img.shape[1])\n",
    "        h = (patch_dim - 1)/2\n",
    "        if int(np.sum(current_mask[i-h:i+h+1,j-h:j+h+1])/patch_dim**2) == 1:\n",
    "            ind = current_img_index*patches_per_image+count\n",
    "            df.loc[ind] = np.arange(patch_dim**2*3+1)\n",
    "            df.loc[ind][0:-1] = np.reshape(current_img[i-h:i+h+1,j-h:j+h+1], -1)\n",
    "            df.loc[ind][patch_dim**2*3] = int(current_gt[i,j])\n",
    "            count +=1"
   ]
  },
  {
   "cell_type": "code",
   "execution_count": 90,
   "metadata": {
    "collapsed": false
   },
   "outputs": [
    {
     "name": "stdout",
     "output_type": "stream",
     "text": [
      "Working on image 1\n",
      "Working on image 2\n",
      "Working on image 3\n",
      "Working on image 4\n",
      "Working on image 5\n",
      "Working on image 6\n",
      "Working on image 7\n",
      "Working on image 8\n",
      "Working on image 9\n",
      "Working on image 10\n",
      "Working on image 11\n",
      "Working on image 12\n",
      "Working on image 13\n",
      "Working on image 14\n",
      "Working on image 15\n",
      "Working on image 16\n",
      "Working on image 17\n",
      "Working on image 18\n",
      "Working on image 19\n",
      "Working on image 20\n",
      "No more images left in set\n"
     ]
    }
   ],
   "source": [
    "while load_next_img(train, mask_train, gt_train):\n",
    "    save_img_data(train,mask_train, gt_train)"
   ]
  },
  {
   "cell_type": "code",
   "execution_count": 103,
   "metadata": {
    "collapsed": false
   },
   "outputs": [],
   "source": [
    "last = len(df.columns) -1\n",
    "mean_img = np.mean(df)[:-1]\n",
    "labels = df[last]\n",
    "mean_normalised_df = df - np.mean(df)\n",
    "mean_normalised_df[last] = labels"
   ]
  },
  {
   "cell_type": "code",
   "execution_count": 109,
   "metadata": {
    "collapsed": false
   },
   "outputs": [],
   "source": [
    "mean_normalised_df = mean_normalised_df.iloc[np.random.permutation(len(df))]\n",
    "mean_normalised_df = mean_normalised_df.reset_index(drop=True)"
   ]
  },
  {
   "cell_type": "code",
   "execution_count": 110,
   "metadata": {
    "collapsed": true
   },
   "outputs": [],
   "source": [
    "mean_normalised_df.to_pickle('../Data/mean_normalised_df.pkl')"
   ]
  }
 ],
 "metadata": {
  "kernelspec": {
   "display_name": "Python 2",
   "language": "python",
   "name": "python2"
  },
  "language_info": {
   "codemirror_mode": {
    "name": "ipython",
    "version": 2
   },
   "file_extension": ".py",
   "mimetype": "text/x-python",
   "name": "python",
   "nbconvert_exporter": "python",
   "pygments_lexer": "ipython2",
   "version": "2.7.11"
  }
 },
 "nbformat": 4,
 "nbformat_minor": 0
}
