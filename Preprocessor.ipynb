{
 "cells": [
  {
   "cell_type": "code",
   "execution_count": 3,
   "metadata": {
    "collapsed": true
   },
   "outputs": [],
   "source": [
    "import numpy as np\n",
    "import pandas as pd\n",
    "from skimage import io, draw\n",
    "from skimage.util import img_as_float, img_as_ubyte\n",
    "%matplotlib inline\n",
    "import os\n",
    "import glob"
   ]
  },
  {
   "cell_type": "code",
   "execution_count": 4,
   "metadata": {
    "collapsed": true
   },
   "outputs": [],
   "source": [
    "def get_path(directory):\n",
    "    imgs = glob.glob(directory + '/images/*.tif')\n",
    "    imgs.sort()\n",
    "    #a = [x.split('/')[-1].split('.')[0] for x in train]\n",
    "    \n",
    "    mask = glob.glob(directory + '/mask/*.gif')\n",
    "    mask.sort()\n",
    "    #b = [x.split('/')[-1].split('.')[0] for x in mask]\n",
    "    \n",
    "    gt = glob.glob(directory + '/1st_manual/*.gif')\n",
    "    gt.sort()\n",
    "    #c = [x.split('/')[-1].split('.')[0] for x in gt]\n",
    "    \n",
    "    return map(os.path.abspath, imgs), map(os.path.abspath, mask), map(os.path.abspath, gt)\n",
    "\n",
    "train, mask_train, gt_train =  get_path('../Data/DRIVE/training')\n",
    "test, mask_test, mask_gt = get_path('../Data/DRIVE/test')"
   ]
  },
  {
   "cell_type": "code",
   "execution_count": 27,
   "metadata": {
    "collapsed": true
   },
   "outputs": [],
   "source": [
    "# Hyper Params\n",
    "total_patches = 600\n",
    "num_training_images = len(train)\n",
    "patches_per_image = total_patches/num_training_images\n",
    "patch_dim = 31                          # Dimension of window used for training\n",
    "num_patches = 0                         # Patches used for training from the current image\n",
    "current_img_index = -1                   # Index of the current image in 'train'\n",
    "current_img = io.imread(train[0])    \n",
    "current_mask = img_as_float(io.imread(mask_train[0]))\n",
    "current_gt = img_as_float(io.imread(gt_train[0]))\n",
    "positive_proprtion = 0.5"
   ]
  },
  {
   "cell_type": "code",
   "execution_count": 28,
   "metadata": {
    "collapsed": false
   },
   "outputs": [
    {
     "data": {
      "text/plain": [
       "\"\\ndef save_img_data(data, mask_data, gt_data):\\n    count = 0\\n    #grid_length = np.floor(np.sqrt(patches_per_image))\\n    #print 'grid length = %d'%grid_length\\n    \\n    row_step = col_step = int(np.ceil(np.sqrt(0.7*current_mask.shape[0]*current_mask.shape[1]/(1.0*patches_per_image))) )   \\n    #print 'steps = %d'%row_step\\n    h = (patch_dim-1)/2\\n    i = h+1\\n    while i<current_mask.shape[0]-h-1-row_step :\\n        j = h+1\\n        while j<current_mask.shape[1]-h+1-col_step and count<patches_per_image:\\n            p = np.random.randint(0,row_step)\\n            q = np.random.randint(0,col_step)\\n            #print 'i = %d, j = %d, count = %d'%(i,j,count)\\n            #print 'p= %d, q = %d'%(p,q)\\n            if current_mask[i+p-h,j+q-h]==current_mask[i+p-h,j+q+h]== current_mask[i+p+h,j+q-h] == current_mask[i+p+h,j+q+h]>0.99: #To avoid floating point comparison\\n                ind = current_img_index*patches_per_image+count\\n                df.loc[ind] = np.arange(patch_dim**2*3+1)\\n                df.loc[ind][0:-1] = np.reshape(current_img[i+p-h:i+p+h+1,j+q-h:j+q+h+1], -1)\\n                df.loc[ind][patch_dim**2*3] = int(current_gt[i+p,j+q])\\n                count +=1\\n            \\n            j+=row_step\\n        i+=col_step\\n    #print count\\n    while count < patches_per_image:\\n        i = np.random.randint(50,current_img.shape[0]-50)\\n        j = np.random.randint(50,current_img.shape[1]-50)\\n        h = (patch_dim - 1)/2\\n        if current_mask[i-h,j-h]==current_mask[i-h,j+h]== current_mask[i+h,j-h] == current_mask[i+h,j+h]>0.99: #To avoid floating point comparison\\n            ind = current_img_index*patches_per_image+count\\n            df.loc[ind] = np.arange(patch_dim**2*3+1)\\n            df.loc[ind][0:-1] = np.reshape(current_img[i-h:i+h+1,j-h:j+h+1], -1)\\n            df.loc[ind][patch_dim**2*3] = int(current_gt[i,j])\\n            count +=1\\n\""
      ]
     },
     "execution_count": 28,
     "metadata": {},
     "output_type": "execute_result"
    }
   ],
   "source": [
    "# When we have extracted 'patches_per_image' number of patches from our current image\n",
    "# we call this function to change the current image\n",
    "def load_next_img(data,mask_data,gt_data):\n",
    "    global num_patches, current_img_index, current_img, current_mask, current_gt\n",
    "    num_patches = 0\n",
    "    if current_img_index < len(data)-1:\n",
    "        current_img_index +=1\n",
    "        print \"Working on image %d\"%(current_img_index + 1)\n",
    "        current_img = io.imread(data[current_img_index])                     \n",
    "        current_mask = img_as_float(io.imread(mask_data[current_img_index])) \n",
    "        current_gt = img_as_float(io.imread(gt_data[current_img_index])) \n",
    "        return True\n",
    "    else:\n",
    "        print 'No more images left in set'\n",
    "        return False\n",
    "df = pd.DataFrame(columns = np.arange(patch_dim**2*3+1))\n",
    "\n",
    "def save_img_data(data, mask_data, gt_data):\n",
    "    pos_count = 0\n",
    "    neg_count = 0\n",
    "    global df\n",
    "    # Fill up till one class reaches its limit\n",
    "    while pos_count +neg_count < patches_per_image: \n",
    "        i = np.random.randint(patch_dim/2,current_img.shape[0]-patch_dim/2)\n",
    "        j = np.random.randint(patch_dim/2,current_img.shape[1]-patch_dim/2)\n",
    "        h = (patch_dim - 1)/2\n",
    "        if int(np.sum(current_mask[i-h:i+h+1,j-h:j+h+1])/patch_dim**2) == 1:\n",
    "            ind = current_img_index*patches_per_image+pos_count+neg_count\n",
    "            if int(current_gt[i,j])==1 and pos_count < positive_proprtion*patches_per_image:\n",
    "                df.loc[ind] = np.arange(patch_dim**2*3+1)\n",
    "                df.loc[ind][0:-1] = np.reshape(current_img[i-h:i+h+1,j-h:j+h+1], -1)\n",
    "                df.loc[ind][patch_dim**2*3] = int(current_gt[i,j])\n",
    "                pos_count += 1\n",
    "            elif int(current_gt[i,j])==0 and neg_count < (1-positive_proprtion)*patches_per_image:\n",
    "                df.loc[ind] = np.arange(patch_dim**2*3+1)\n",
    "                df.loc[ind][0:-1] = np.reshape(current_img[i-h:i+h+1,j-h:j+h+1], -1)\n",
    "                df.loc[ind][patch_dim**2*3] = int(current_gt[i,j])\n",
    "                neg_count += 1\n",
    "        \n",
    "'''\n",
    "def save_img_data(data, mask_data, gt_data):\n",
    "    count = 0\n",
    "    #grid_length = np.floor(np.sqrt(patches_per_image))\n",
    "    #print 'grid length = %d'%grid_length\n",
    "    \n",
    "    row_step = col_step = int(np.ceil(np.sqrt(0.7*current_mask.shape[0]*current_mask.shape[1]/(1.0*patches_per_image))) )   \n",
    "    #print 'steps = %d'%row_step\n",
    "    h = (patch_dim-1)/2\n",
    "    i = h+1\n",
    "    while i<current_mask.shape[0]-h-1-row_step :\n",
    "        j = h+1\n",
    "        while j<current_mask.shape[1]-h+1-col_step and count<patches_per_image:\n",
    "            p = np.random.randint(0,row_step)\n",
    "            q = np.random.randint(0,col_step)\n",
    "            #print 'i = %d, j = %d, count = %d'%(i,j,count)\n",
    "            #print 'p= %d, q = %d'%(p,q)\n",
    "            if current_mask[i+p-h,j+q-h]==current_mask[i+p-h,j+q+h]== current_mask[i+p+h,j+q-h] == current_mask[i+p+h,j+q+h]>0.99: #To avoid floating point comparison\n",
    "                ind = current_img_index*patches_per_image+count\n",
    "                df.loc[ind] = np.arange(patch_dim**2*3+1)\n",
    "                df.loc[ind][0:-1] = np.reshape(current_img[i+p-h:i+p+h+1,j+q-h:j+q+h+1], -1)\n",
    "                df.loc[ind][patch_dim**2*3] = int(current_gt[i+p,j+q])\n",
    "                count +=1\n",
    "            \n",
    "            j+=row_step\n",
    "        i+=col_step\n",
    "    #print count\n",
    "    while count < patches_per_image:\n",
    "        i = np.random.randint(50,current_img.shape[0]-50)\n",
    "        j = np.random.randint(50,current_img.shape[1]-50)\n",
    "        h = (patch_dim - 1)/2\n",
    "        if current_mask[i-h,j-h]==current_mask[i-h,j+h]== current_mask[i+h,j-h] == current_mask[i+h,j+h]>0.99: #To avoid floating point comparison\n",
    "            ind = current_img_index*patches_per_image+count\n",
    "            df.loc[ind] = np.arange(patch_dim**2*3+1)\n",
    "            df.loc[ind][0:-1] = np.reshape(current_img[i-h:i+h+1,j-h:j+h+1], -1)\n",
    "            df.loc[ind][patch_dim**2*3] = int(current_gt[i,j])\n",
    "            count +=1\n",
    "'''"
   ]
  },
  {
   "cell_type": "code",
   "execution_count": 29,
   "metadata": {
    "collapsed": false,
    "scrolled": true
   },
   "outputs": [
    {
     "name": "stdout",
     "output_type": "stream",
     "text": [
      "Working on image 1\n",
      "Working on image 2\n",
      "Working on image 3\n",
      "Working on image 4\n",
      "Working on image 5\n",
      "Working on image 6\n",
      "Working on image 7\n",
      "Working on image 8\n",
      "Working on image 9\n",
      "Working on image 10\n",
      "Working on image 11\n",
      "Working on image 12\n",
      "Working on image 13\n",
      "Working on image 14\n",
      "Working on image 15\n",
      "Working on image 16\n",
      "Working on image 17\n",
      "Working on image 18\n",
      "Working on image 19\n",
      "Working on image 20\n",
      "No more images left in set\n"
     ]
    }
   ],
   "source": [
    "while load_next_img(train, mask_train, gt_train):\n",
    "    save_img_data(train,mask_train, gt_train)"
   ]
  },
  {
   "cell_type": "code",
   "execution_count": 30,
   "metadata": {
    "collapsed": false
   },
   "outputs": [],
   "source": [
    "last = len(df.columns) -1\n",
    "mean_img = np.mean(df)[:-1]\n",
    "labels = df[last]\n",
    "mean_normalised_df = df - np.mean(df)\n",
    "mean_normalised_df[last] = labels"
   ]
  },
  {
   "cell_type": "code",
   "execution_count": 31,
   "metadata": {
    "collapsed": false
   },
   "outputs": [],
   "source": [
    "mean_normalised_df = mean_normalised_df.iloc[np.random.permutation(len(df))]\n",
    "mean_normalised_df = mean_normalised_df.reset_index(drop=True)"
   ]
  },
  {
   "cell_type": "code",
   "execution_count": 32,
   "metadata": {
    "collapsed": true
   },
   "outputs": [],
   "source": [
    "mean_normalised_df.to_pickle('../Data/mean_normalised_df_no_class_bias.pkl')\n",
    "mean_img.to_pickle('../Data/mean_img_no_class_bias.pkl')"
   ]
  },
  {
   "cell_type": "code",
   "execution_count": 1,
   "metadata": {
    "collapsed": true
   },
   "outputs": [],
   "source": [
    "from scipy import misc, ndimage"
   ]
  },
  {
   "cell_type": "code",
   "execution_count": 13,
   "metadata": {
    "collapsed": false
   },
   "outputs": [
    {
     "data": {
      "text/plain": [
       "numpy.ndarray"
      ]
     },
     "execution_count": 13,
     "metadata": {},
     "output_type": "execute_result"
    }
   ],
   "source": [
    "im = misc.imread(train[0])\n",
    "type(im)"
   ]
  },
  {
   "cell_type": "code",
   "execution_count": 12,
   "metadata": {
    "collapsed": false
   },
   "outputs": [
    {
     "data": {
      "text/plain": [
       "numpy.ndarray"
      ]
     },
     "execution_count": 12,
     "metadata": {},
     "output_type": "execute_result"
    }
   ],
   "source": [
    "ig = ndimage.imread(train[0])\n",
    "type(ig)"
   ]
  },
  {
   "cell_type": "code",
   "execution_count": 15,
   "metadata": {
    "collapsed": false
   },
   "outputs": [
    {
     "ename": "NameError",
     "evalue": "name 'vertion' is not defined",
     "output_type": "error",
     "traceback": [
      "\u001b[1;31m---------------------------------------------------------------------------\u001b[0m",
      "\u001b[1;31mNameError\u001b[0m                                 Traceback (most recent call last)",
      "\u001b[1;32m<ipython-input-15-dbc163ff1999>\u001b[0m in \u001b[0;36m<module>\u001b[1;34m()\u001b[0m\n\u001b[1;32m----> 1\u001b[1;33m \u001b[0mvertion\u001b[0m\u001b[1;33m\u001b[0m\u001b[0m\n\u001b[0m",
      "\u001b[1;31mNameError\u001b[0m: name 'vertion' is not defined"
     ]
    }
   ],
   "source": []
  },
  {
   "cell_type": "code",
   "execution_count": null,
   "metadata": {
    "collapsed": true
   },
   "outputs": [],
   "source": []
  }
 ],
 "metadata": {
  "kernelspec": {
   "display_name": "Python 2",
   "language": "python",
   "name": "python2"
  },
  "language_info": {
   "codemirror_mode": {
    "name": "ipython",
    "version": 2
   },
   "file_extension": ".py",
   "mimetype": "text/x-python",
   "name": "python",
   "nbconvert_exporter": "python",
   "pygments_lexer": "ipython2",
   "version": "2.7.11"
  }
 },
 "nbformat": 4,
 "nbformat_minor": 0
}
